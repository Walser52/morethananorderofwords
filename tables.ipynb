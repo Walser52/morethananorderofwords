{
  "cells": [
    {
      "cell_type": "markdown",
      "metadata": {},
      "source": [
        "# Tables\n",
        "\n",
        "## longtable\n",
        "### Hide a column\n",
        "To hide a column that is \n",
        "\n",
        "\n",
        "\n",
        "```{latex}\n",
        "\\newsavebox\\dummy\n",
        "\\newcolumntype{H}{>{\\begin{lrbox}{\\dummy}}c<{\\end{lrbox}}@{}}\n",
        "\n",
        "```"
      ],
      "id": "2f37163b"
    }
  ],
  "metadata": {
    "kernelspec": {
      "display_name": "Python 3",
      "language": "python",
      "name": "python3"
    }
  },
  "nbformat": 4,
  "nbformat_minor": 5
}